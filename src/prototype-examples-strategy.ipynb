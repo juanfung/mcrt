{
 "cells": [
  {
   "cell_type": "markdown",
   "id": "0b5177bc",
   "metadata": {},
   "source": [
    "# Cherry-picked examples by label of interest\n",
    "\n",
    "- Goal: identify expectations for AI-assisted annotation of *similar* documents\n",
    "- Question: what level of detail do we expect from labels (with caveat that any annotation method will be flexible enough to allow for \"discovery\" of new labels)?"
   ]
  },
  {
   "cell_type": "code",
   "execution_count": 1,
   "id": "9b4f2885",
   "metadata": {},
   "outputs": [],
   "source": [
    "# load packages\n",
    "import pandas as pd\n",
    "import numpy as np\n",
    "import string\n",
    "import re\n",
    "import random"
   ]
  },
  {
   "cell_type": "code",
   "execution_count": 2,
   "id": "606a0f72",
   "metadata": {},
   "outputs": [],
   "source": [
    "random.seed(11)"
   ]
  },
  {
   "cell_type": "code",
   "execution_count": 3,
   "id": "995bdc70",
   "metadata": {},
   "outputs": [],
   "source": [
    "# path to RAS corpus\n",
    "path_ras = '../data/processed/corpus_guidancev4.csv'"
   ]
  },
  {
   "cell_type": "code",
   "execution_count": 4,
   "id": "6b2985aa",
   "metadata": {},
   "outputs": [
    {
     "data": {
      "text/html": [
       "<div>\n",
       "<style scoped>\n",
       "    .dataframe tbody tr th:only-of-type {\n",
       "        vertical-align: middle;\n",
       "    }\n",
       "\n",
       "    .dataframe tbody tr th {\n",
       "        vertical-align: top;\n",
       "    }\n",
       "\n",
       "    .dataframe thead th {\n",
       "        text-align: right;\n",
       "    }\n",
       "</style>\n",
       "<table border=\"1\" class=\"dataframe\">\n",
       "  <thead>\n",
       "    <tr style=\"text-align: right;\">\n",
       "      <th></th>\n",
       "      <th>unique_id</th>\n",
       "      <th>snippet</th>\n",
       "      <th>tag_0</th>\n",
       "      <th>tag_1</th>\n",
       "      <th>tag_2</th>\n",
       "      <th>source</th>\n",
       "      <th>group</th>\n",
       "    </tr>\n",
       "  </thead>\n",
       "  <tbody>\n",
       "    <tr>\n",
       "      <th>0</th>\n",
       "      <td>0</td>\n",
       "      <td>Appendix B: Federal Laws  and Executive Orders...</td>\n",
       "      <td>IMPLEMENTATION AND MONITORING</td>\n",
       "      <td>Plan Compliance and Integration</td>\n",
       "      <td>NaN</td>\n",
       "      <td>A5 - NOAA Coastal Management 2010 adaptationguide</td>\n",
       "      <td>Climate Adaptation</td>\n",
       "    </tr>\n",
       "    <tr>\n",
       "      <th>1</th>\n",
       "      <td>1</td>\n",
       "      <td>Appendix C: Regional  Climate Change Summaries</td>\n",
       "      <td>FACT BASE</td>\n",
       "      <td>Fact Base (general)</td>\n",
       "      <td>Hazards</td>\n",
       "      <td>A5 - NOAA Coastal Management 2010 adaptationguide</td>\n",
       "      <td>Climate Adaptation</td>\n",
       "    </tr>\n",
       "    <tr>\n",
       "      <th>2</th>\n",
       "      <td>2</td>\n",
       "      <td>Adaptation: The adjustment of natural or human...</td>\n",
       "      <td>GUIDE PURPOSE AND OBJECTIVES</td>\n",
       "      <td>Term definition</td>\n",
       "      <td>NaN</td>\n",
       "      <td>A8 - CA 2012 Adapting to Sea Level Rise</td>\n",
       "      <td>Climate Adaptation</td>\n",
       "    </tr>\n",
       "    <tr>\n",
       "      <th>3</th>\n",
       "      <td>3</td>\n",
       "      <td>Adaptive capacity: A communitys ability to re-...</td>\n",
       "      <td>GUIDE PURPOSE AND OBJECTIVES</td>\n",
       "      <td>Term definition</td>\n",
       "      <td>NaN</td>\n",
       "      <td>A8 - CA 2012 Adapting to Sea Level Rise</td>\n",
       "      <td>Climate Adaptation</td>\n",
       "    </tr>\n",
       "    <tr>\n",
       "      <th>4</th>\n",
       "      <td>4</td>\n",
       "      <td>Resilience: The ability of an entity or system...</td>\n",
       "      <td>GUIDE PURPOSE AND OBJECTIVES</td>\n",
       "      <td>Term definition</td>\n",
       "      <td>NaN</td>\n",
       "      <td>A8 - CA 2012 Adapting to Sea Level Rise</td>\n",
       "      <td>Climate Adaptation</td>\n",
       "    </tr>\n",
       "  </tbody>\n",
       "</table>\n",
       "</div>"
      ],
      "text/plain": [
       "   unique_id                                            snippet  \\\n",
       "0          0  Appendix B: Federal Laws  and Executive Orders...   \n",
       "1          1     Appendix C: Regional  Climate Change Summaries   \n",
       "2          2  Adaptation: The adjustment of natural or human...   \n",
       "3          3  Adaptive capacity: A communitys ability to re-...   \n",
       "4          4  Resilience: The ability of an entity or system...   \n",
       "\n",
       "                           tag_0                            tag_1    tag_2  \\\n",
       "0  IMPLEMENTATION AND MONITORING  Plan Compliance and Integration      NaN   \n",
       "1                      FACT BASE              Fact Base (general)  Hazards   \n",
       "2   GUIDE PURPOSE AND OBJECTIVES                  Term definition      NaN   \n",
       "3   GUIDE PURPOSE AND OBJECTIVES                  Term definition      NaN   \n",
       "4   GUIDE PURPOSE AND OBJECTIVES                  Term definition      NaN   \n",
       "\n",
       "                                              source               group  \n",
       "0  A5 - NOAA Coastal Management 2010 adaptationguide  Climate Adaptation  \n",
       "1  A5 - NOAA Coastal Management 2010 adaptationguide  Climate Adaptation  \n",
       "2            A8 - CA 2012 Adapting to Sea Level Rise  Climate Adaptation  \n",
       "3            A8 - CA 2012 Adapting to Sea Level Rise  Climate Adaptation  \n",
       "4            A8 - CA 2012 Adapting to Sea Level Rise  Climate Adaptation  "
      ]
     },
     "execution_count": 4,
     "metadata": {},
     "output_type": "execute_result"
    }
   ],
   "source": [
    "df = pd.read_csv(path_ras)\n",
    "# drop rows with NaN snippet\n",
    "df = df[df['snippet'].notna()]\n",
    "df.head(5)"
   ]
  },
  {
   "cell_type": "code",
   "execution_count": 5,
   "id": "7acd289e",
   "metadata": {},
   "outputs": [
    {
     "name": "stdout",
     "output_type": "stream",
     "text": [
      "Tag occurrence by level:\n",
      "\n",
      "tag_0:\n",
      " STRATEGY IDENTIFICATION                    711\n",
      "COMMUNITY GOAL SETTING AND COORDINATION    624\n",
      "FACT BASE                                  400\n",
      "ANALYSIS METHODS                           315\n",
      "IMPLEMENTATION AND MONITORING              269\n",
      "GUIDE PURPOSE AND OBJECTIVES               160\n",
      "Name: tag_0, dtype: int64 \n",
      "\n",
      "tag_1:\n",
      " Strategy Action (general)            585\n",
      "Fact Base (general)                  400\n",
      "Stakeholder Involvement (general)    332\n",
      "Analysis Methods                     315\n",
      "Planning Team (general)              168\n",
      "Implementation                       138\n",
      "Strategy Selection                   126\n",
      "Community Goals Identification       124\n",
      "Evaluation and Monitoring             87\n",
      "Guide Purpose Statement               69\n",
      "Term definition                       49\n",
      "Plan Compliance and Integration       44\n",
      "Guide Outcomes                        39\n",
      "Figures                                3\n",
      "Name: tag_1, dtype: int64 \n",
      "\n",
      "tag_2:\n",
      " Specific models or methods            141\n",
      "Hazards                               122\n",
      "Financing and Funding                 120\n",
      "Capacity, Management, and Planning    114\n",
      "Physical Infrastructure               108\n",
      "Reduce Environmental Impacts           96\n",
      "Regulatory policy and legislation      85\n",
      "Outreach and Documentation             71\n",
      "Local Intra-governmental               66\n",
      "Built environment                      62\n",
      "Socio-Demographic                      48\n",
      "The public                             46\n",
      "Public Administration                  45\n",
      "Economic systems                       37\n",
      "Businesses                             32\n",
      "Scientists/Experts                     30\n",
      "Education and behavior change          30\n",
      "Data-Other                             28\n",
      "Natural Systems                        26\n",
      "NGO's                                  24\n",
      "State agencies                         20\n",
      "Regional Agencies                      18\n",
      "Federal agencies                       16\n",
      "Other members                          14\n",
      "Tribes                                 13\n",
      "Utilities                              12\n",
      "Other stakeholders                      9\n",
      "Neigboring jurisdictions                5\n",
      "Strategy-Other                          4\n",
      "Neighboring jurisdictions               2\n",
      "Name: tag_2, dtype: int64 \n",
      "\n"
     ]
    }
   ],
   "source": [
    "# count tag occurrence in each tag level\n",
    "print('Tag occurrence by level:\\n')\n",
    "print('tag_0:\\n', df['tag_0'].value_counts(), '\\n')\n",
    "print('tag_1:\\n', df['tag_1'].value_counts(), '\\n')\n",
    "print('tag_2:\\n', df['tag_2'].value_counts(), '\\n')"
   ]
  },
  {
   "cell_type": "code",
   "execution_count": 6,
   "id": "d03f668c",
   "metadata": {},
   "outputs": [],
   "source": [
    "n_snippets = 1"
   ]
  },
  {
   "cell_type": "markdown",
   "id": "0c7d3881",
   "metadata": {},
   "source": [
    "## Exercise\n",
    "\n",
    "- Focus on guidance document labels about *strategies*\n",
    "- For each strategy label, pick a random chunk\n",
    "- Consider what level of detail is appropriate: existing label, or something more refined?\n",
    "- Some ideas for potentially more refined labels are proposed"
   ]
  },
  {
   "cell_type": "markdown",
   "id": "34644c12",
   "metadata": {},
   "source": [
    "## Strategy: Financing and Funding\n",
    "\n",
    "- Financing / Grants\n",
    "- Infrastructure\n",
    "- Public-private partnerships"
   ]
  },
  {
   "cell_type": "code",
   "execution_count": 7,
   "id": "73194b38",
   "metadata": {},
   "outputs": [
    {
     "data": {
      "text/plain": [
       "['NATIONAL COASTAL RESILIENCE FUND DESCRIPTION PROJECTS The National Coastal Resilience Fund, a pub-lic-private  partnership between the National Fish and Wildlife  Foundation, NOAA, Shell, and TransRe, provides grants to  support natural infrastructure. Established in 2018, the  Fund invests in projects that protect coastal com-munities  from extreme storm and flood events while enhancing  natural habitat.  Community capacity-building and planning, engineering,  design, and construction projects such as living shoreline,  floodplain-habitat restoration design, marsh and wetland  habitat restoration, and natural channel design.']"
      ]
     },
     "execution_count": 7,
     "metadata": {},
     "output_type": "execute_result"
    }
   ],
   "source": [
    "df.loc[df['tag_2'] == 'Financing and Funding']['snippet'].sample(n_snippets).apply(str).tolist()"
   ]
  },
  {
   "cell_type": "markdown",
   "id": "7dc45c70",
   "metadata": {},
   "source": [
    "## Strategy: Capacity, Management, and Planning\n",
    "\n",
    "- Building codes and standards\n",
    "- Development\n",
    "- Land use"
   ]
  },
  {
   "cell_type": "code",
   "execution_count": 8,
   "id": "1d9a4723",
   "metadata": {},
   "outputs": [
    {
     "data": {
      "text/plain": [
       "['that only mimic the NFIPs minimum requirements  for construction in the currently mapped flood  hazard areas may not be enough to protect people  and property from future or present day storms.9  To  provide a higher level of protection and better prepare  coastal communities for climate change, state and  local governments are encouraged to adopt codes that  consider sea level rise and include higher regulatory  standards. Examples include:  Adding freeboard (an additional height  requirement above the BFE)10,11  Applying V-Zone requirements to the Coastal  A-Zone (area landward of V-Zone that is still  subject to storm surge and damaging waves  (1.5-3 feet)) or the entire Special Flood Hazard  Area  Applying codes outside of the Special Flood  Hazard Area (e.g., to a point landward of the  limit of the Special Flood Hazard Area where  the ground elevation is equal to that of the  adjacent A-Zones BFE plus freeboard)  Applying codes to all structures undergoing  improvements and repairs']"
      ]
     },
     "execution_count": 8,
     "metadata": {},
     "output_type": "execute_result"
    }
   ],
   "source": [
    "df.loc[df['tag_2'] == 'Capacity, Management, and Planning']['snippet'].sample(n_snippets).apply(str).tolist()"
   ]
  },
  {
   "cell_type": "markdown",
   "id": "55c6e667",
   "metadata": {},
   "source": [
    "## Strategy: Physical Infrastructure\n",
    "\n",
    "- Infrastructure\n",
    "- Transportation network\n",
    "- Co-benefits (heat and runoff)"
   ]
  },
  {
   "cell_type": "code",
   "execution_count": 9,
   "id": "4a0ba5e7",
   "metadata": {},
   "outputs": [
    {
     "data": {
      "text/plain": [
       "['Constructing narrow streets  Results in less heat-holding  asphalt and concrete  Yields less runoff']"
      ]
     },
     "execution_count": 9,
     "metadata": {},
     "output_type": "execute_result"
    }
   ],
   "source": [
    "df.loc[df['tag_2'] == 'Physical Infrastructure']['snippet'].sample(n_snippets).apply(str).tolist()"
   ]
  },
  {
   "cell_type": "markdown",
   "id": "6c8ed3c9",
   "metadata": {},
   "source": [
    "## Strategy: Reduce Environmental Impacts"
   ]
  },
  {
   "cell_type": "code",
   "execution_count": 10,
   "id": "8ee0f32d",
   "metadata": {},
   "outputs": [
    {
     "data": {
      "text/plain": [
       "['biologs, matting), and sand fill or a hybrid approach  combining vegetative planting with low rock sills or  footers, living breakwaters (e.g., oysters), or other  shore protection structures designed to keep sediment  in place or reduce wave energy. The techniques and  materials used will depend on site-specific needs and  characteristics. There are a number of benefits to  living shorelines. Specifically, they:  Maintain natural shoreline dynamics and sand  movement   Trap sand to rebuild eroded shorelines or  maintain the current shoreline   Provide important shoreline habitat   Reduce wave energy and coastal erosion  Absorb storm surge and flood waters   Filter nutrients and pollutants from the  water   Maintain beach and intertidal areas that  offer public access   Are aesthetically pleasing  Allow for landward migration as sea levels  rise  Absorb atmospheric carbon dioxide  Are less costly than shore protection  structures  In some states, the regulatory framework makes  it more difficult to implement living shorelines  projects than the traditional shore protection  structures previously discussed. Regulations should  be reviewed and revised to encourage the use of  living shorelines where appropriate.  ']"
      ]
     },
     "execution_count": 10,
     "metadata": {},
     "output_type": "execute_result"
    }
   ],
   "source": [
    "df.loc[df['tag_2'] == 'Reduce Environmental Impacts']['snippet'].sample(n_snippets).apply(str).tolist()"
   ]
  },
  {
   "cell_type": "markdown",
   "id": "656fff3f",
   "metadata": {},
   "source": [
    "## Strategy: Regulatory policy and legislation"
   ]
  },
  {
   "cell_type": "code",
   "execution_count": 11,
   "id": "7a2b7ca7",
   "metadata": {},
   "outputs": [
    {
     "data": {
      "text/plain": [
       "['Buffer ordinances. Buffer design  requirements (width, vegetation, maintenance). Stormwater  credit']"
      ]
     },
     "execution_count": 11,
     "metadata": {},
     "output_type": "execute_result"
    }
   ],
   "source": [
    "df.loc[df['tag_2'] == 'Regulatory policy and legislation']['snippet'].sample(n_snippets).apply(str).tolist()"
   ]
  },
  {
   "cell_type": "markdown",
   "id": "822ccecc",
   "metadata": {},
   "source": [
    "## Strategy: Education and behavior change"
   ]
  },
  {
   "cell_type": "code",
   "execution_count": 12,
   "id": "4e4cbd32",
   "metadata": {},
   "outputs": [
    {
     "data": {
      "text/plain": [
       "['Education and  Awareness  Programs These are actions to inform and educate citizens,  elected officials, and property owners about  hazards and potential ways to mitigate them.  These actions may also include participation  in national programs, such as StormReady1 or Firewise2 Communities. Although this  type of mitigation reduces risk less directly  than structural projects or regulation, it is an  important foundation. A greater understanding  and awareness of hazards and risk among local  officials, stakeholders, and the public is more  likely to lead to direct actions.  Radio or television spots  Websites with maps and information  Real estate disclosure  Presentations to school groups or neighborhood organizations  Mailings to residents in hazard-prone areas.  StormReady   Firewise Communities']"
      ]
     },
     "execution_count": 12,
     "metadata": {},
     "output_type": "execute_result"
    }
   ],
   "source": [
    "df.loc[df['tag_2'] == 'Education and behavior change']['snippet'].sample(n_snippets).apply(str).tolist()"
   ]
  },
  {
   "cell_type": "markdown",
   "id": "23cedc7f",
   "metadata": {},
   "source": [
    "## Strategy: Strategy-Other"
   ]
  },
  {
   "cell_type": "code",
   "execution_count": 13,
   "id": "756d7d4f",
   "metadata": {},
   "outputs": [
    {
     "data": {
      "text/plain": [
       "['E.2 Low Emitting Materials Objective: To reduce the number of indoor air contaminants that could be irritating, harmful, or  odorous to building occupants. Rationale: Low-emitting materials release fewer Volatile Organic Compounds (VOCs) and other  harmful chemicals into the air. These chemicals are found in higher concentrations  indoors and can cause a variety of different health problems, such as eye, nose, and throat  irritation; headaches; and kidney and liver damage.']"
      ]
     },
     "execution_count": 13,
     "metadata": {},
     "output_type": "execute_result"
    }
   ],
   "source": [
    "df.loc[df['tag_2'] == 'Strategy-Other']['snippet'].sample(n_snippets).apply(str).tolist()"
   ]
  },
  {
   "cell_type": "markdown",
   "id": "4639b59b",
   "metadata": {},
   "source": [
    "## Bonus: Goals"
   ]
  },
  {
   "cell_type": "code",
   "execution_count": 14,
   "id": "89bb93ae",
   "metadata": {},
   "outputs": [
    {
     "data": {
      "text/plain": [
       "['  An understanding of why trust is so important, and how to build it   Tools for effective storytelling   A Stakeholder Map that includes your project team, advisory group, leadership and  decision makers, interest groups, and the broader community   An Engagement and Outreach Plan that identifies goals, target audiences, key  messages, tools for outreach, strategies for outreach, and an implementation plan']"
      ]
     },
     "execution_count": 14,
     "metadata": {},
     "output_type": "execute_result"
    }
   ],
   "source": [
    "df.loc[df['tag_1'] == 'Community Goals Identification']['snippet'].sample(n_snippets).apply(str).tolist()"
   ]
  },
  {
   "cell_type": "markdown",
   "id": "f76d52b1",
   "metadata": {},
   "source": [
    "## Bonus 2: Truly Cherry-picked Examples\n",
    "\n",
    "These are chunks from three separate guidance documents, one from each of R-A-S, that show similar policies/actions being used. I cherry-picked these a while ago for illustrative purposes.\n",
    "\n",
    "It's worth noting that these and most of the strategy chunks tend to present a set of possible actions available to a community. Thus, it might provide valuable information when coupled with the R-A-S label as we can then examine overlap across R-A-S with respect to the language in these chunks."
   ]
  },
  {
   "cell_type": "code",
   "execution_count": 15,
   "id": "07a5a799",
   "metadata": {},
   "outputs": [
    {
     "data": {
      "text/html": [
       "<div>\n",
       "<style scoped>\n",
       "    .dataframe tbody tr th:only-of-type {\n",
       "        vertical-align: middle;\n",
       "    }\n",
       "\n",
       "    .dataframe tbody tr th {\n",
       "        vertical-align: top;\n",
       "    }\n",
       "\n",
       "    .dataframe thead th {\n",
       "        text-align: right;\n",
       "    }\n",
       "</style>\n",
       "<table border=\"1\" class=\"dataframe\">\n",
       "  <thead>\n",
       "    <tr style=\"text-align: right;\">\n",
       "      <th></th>\n",
       "      <th>group</th>\n",
       "      <th>tag_0</th>\n",
       "      <th>tag_1</th>\n",
       "      <th>tag_2</th>\n",
       "      <th>snippet</th>\n",
       "    </tr>\n",
       "  </thead>\n",
       "  <tbody>\n",
       "    <tr>\n",
       "      <th>219</th>\n",
       "      <td>Climate Adaptation</td>\n",
       "      <td>STRATEGY IDENTIFICATION</td>\n",
       "      <td>Strategy Action (general)</td>\n",
       "      <td>Regulatory policy and legislation</td>\n",
       "      <td>Incorporate projected climate impacts into po...</td>\n",
       "    </tr>\n",
       "    <tr>\n",
       "      <th>230</th>\n",
       "      <td>Climate Adaptation</td>\n",
       "      <td>STRATEGY IDENTIFICATION</td>\n",
       "      <td>Strategy Action (general)</td>\n",
       "      <td>Regulatory policy and legislation</td>\n",
       "      <td>Consider incentives to encourage development i...</td>\n",
       "    </tr>\n",
       "  </tbody>\n",
       "</table>\n",
       "</div>"
      ],
      "text/plain": [
       "                  group                    tag_0                      tag_1  \\\n",
       "219  Climate Adaptation  STRATEGY IDENTIFICATION  Strategy Action (general)   \n",
       "230  Climate Adaptation  STRATEGY IDENTIFICATION  Strategy Action (general)   \n",
       "\n",
       "                                 tag_2  \\\n",
       "219  Regulatory policy and legislation   \n",
       "230  Regulatory policy and legislation   \n",
       "\n",
       "                                               snippet  \n",
       "219   Incorporate projected climate impacts into po...  \n",
       "230  Consider incentives to encourage development i...  "
      ]
     },
     "execution_count": 15,
     "metadata": {},
     "output_type": "execute_result"
    }
   ],
   "source": [
    "snippet = 'Consider incentives to encourage development in more desirable locations'\n",
    "df.loc[df['snippet'].str.contains(snippet)][['group', 'tag_0', 'tag_1', 'tag_2', 'snippet']]"
   ]
  },
  {
   "cell_type": "code",
   "execution_count": 16,
   "id": "0b9e4ec1",
   "metadata": {},
   "outputs": [
    {
     "data": {
      "text/plain": [
       "'Consider incentives to encourage development in more desirable locationsplaces that are both less vulnerable to climate-related impacts and well-connected to existing development, infrastructure, and transportation options. Incentives can be financial, such as tax credits for protecting natural resources, or procedural, such as height or floor area bonuses for designs that are more resilient to hazards.  Incorporate measures into hazard mitigation and other plans to rebuild in stronger and more resilient ways should a disaster occur. Identifying and assessing hazards as they relate to infrastructure, capital improvement, and/or transportation improvement plans lets a community prioritize projects and pursue funding from state and federal sources. Communities that upgrade local plans are also in a better position to request postdisaster assistance when the next disaster occurs because they already have projects identified and know where and how to direct rebuilding. Communities can align their capital improvement plans with hazard mitigation plans to identify infrastructure and critical facility vulnerabilities or deficiencies and plan for needed improvements. They can inventory infrastructure and facilities and document how well the infrastructure can handle known and projected hazards (e.g., culvert capacity relative to 500- year stormwater flows). Incorporating hazard information into long-term capital improvement planning can help prioritize projects such as upgrading roads and utilities in safer development areas; improving stormwater infrastructure; restoring streams and habitat; '"
      ]
     },
     "execution_count": 16,
     "metadata": {},
     "output_type": "execute_result"
    }
   ],
   "source": [
    "df.loc[df['snippet'].str.contains(snippet)]['snippet'].apply(str).tolist()[1]"
   ]
  },
  {
   "cell_type": "code",
   "execution_count": 17,
   "id": "09b6c751",
   "metadata": {},
   "outputs": [
    {
     "data": {
      "text/html": [
       "<div>\n",
       "<style scoped>\n",
       "    .dataframe tbody tr th:only-of-type {\n",
       "        vertical-align: middle;\n",
       "    }\n",
       "\n",
       "    .dataframe tbody tr th {\n",
       "        vertical-align: top;\n",
       "    }\n",
       "\n",
       "    .dataframe thead th {\n",
       "        text-align: right;\n",
       "    }\n",
       "</style>\n",
       "<table border=\"1\" class=\"dataframe\">\n",
       "  <thead>\n",
       "    <tr style=\"text-align: right;\">\n",
       "      <th></th>\n",
       "      <th>group</th>\n",
       "      <th>tag_0</th>\n",
       "      <th>tag_1</th>\n",
       "      <th>tag_2</th>\n",
       "      <th>snippet</th>\n",
       "    </tr>\n",
       "  </thead>\n",
       "  <tbody>\n",
       "    <tr>\n",
       "      <th>1428</th>\n",
       "      <td>Resilience and Hazard Mitigation</td>\n",
       "      <td>STRATEGY IDENTIFICATION</td>\n",
       "      <td>Strategy Action (general)</td>\n",
       "      <td>Regulatory policy and legislation</td>\n",
       "      <td>Development or Redevelopment Incentives Commun...</td>\n",
       "    </tr>\n",
       "  </tbody>\n",
       "</table>\n",
       "</div>"
      ],
      "text/plain": [
       "                                 group                    tag_0  \\\n",
       "1428  Resilience and Hazard Mitigation  STRATEGY IDENTIFICATION   \n",
       "\n",
       "                          tag_1                              tag_2  \\\n",
       "1428  Strategy Action (general)  Regulatory policy and legislation   \n",
       "\n",
       "                                                snippet  \n",
       "1428  Development or Redevelopment Incentives Commun...  "
      ]
     },
     "execution_count": 17,
     "metadata": {},
     "output_type": "execute_result"
    }
   ],
   "source": [
    "snippet = 'Communities can update their land use'\n",
    "df.loc[df['snippet'].str.contains(snippet)][['group', 'tag_0', 'tag_1', 'tag_2', 'snippet']]"
   ]
  },
  {
   "cell_type": "code",
   "execution_count": 18,
   "id": "5e6ae820",
   "metadata": {},
   "outputs": [
    {
     "data": {
      "text/plain": [
       "['Development or Redevelopment Incentives Communities can update their land use, zoning, or other  local regulations to provide incentives for using nature-based  solutions. Zoning incentives can allow a greater height,  density, or intensity of development if a developer uses  nature-based approaches. One common zoning incentive  is an increased floor-to-area ratio (FAR), which regulates  the density of development on a site. The City of Portland,  Oregon offers increased FAR as an incentive for installing  green roofs. Communities can also exempt green roofs  or pervious pavements from any regulations that apply to  impervious cover.  More incentives for adopting nature-based solutions  approaches can be used in the development application  and review period. These include discounted application  fees and discounted or waived maintenance bonding  requirements. The City of Chicago, Illinois waives permit fees  for developments that meet specific nature-based solutions  thresholds. For redevelopment, communities can also give a  one-time tax credit for using nature-based approaches that  benefit the public.  More communities are moving from strict standards to  more flexible instruments that include incentives. They are  encouraging developers to use nature-based solutions through  unified development ordinances. They are providing options for  flexibility and creativity during the site plan review process']"
      ]
     },
     "execution_count": 18,
     "metadata": {},
     "output_type": "execute_result"
    }
   ],
   "source": [
    "df.loc[df['snippet'].str.contains(snippet)]['snippet'].apply(str).tolist()"
   ]
  },
  {
   "cell_type": "code",
   "execution_count": 19,
   "id": "57199628",
   "metadata": {},
   "outputs": [
    {
     "data": {
      "text/html": [
       "<div>\n",
       "<style scoped>\n",
       "    .dataframe tbody tr th:only-of-type {\n",
       "        vertical-align: middle;\n",
       "    }\n",
       "\n",
       "    .dataframe tbody tr th {\n",
       "        vertical-align: top;\n",
       "    }\n",
       "\n",
       "    .dataframe thead th {\n",
       "        text-align: right;\n",
       "    }\n",
       "</style>\n",
       "<table border=\"1\" class=\"dataframe\">\n",
       "  <thead>\n",
       "    <tr style=\"text-align: right;\">\n",
       "      <th></th>\n",
       "      <th>group</th>\n",
       "      <th>tag_0</th>\n",
       "      <th>tag_1</th>\n",
       "      <th>tag_2</th>\n",
       "      <th>snippet</th>\n",
       "    </tr>\n",
       "  </thead>\n",
       "  <tbody>\n",
       "    <tr>\n",
       "      <th>550</th>\n",
       "      <td>Climate Adaptation</td>\n",
       "      <td>STRATEGY IDENTIFICATION</td>\n",
       "      <td>Strategy Action (general)</td>\n",
       "      <td>Regulatory policy and legislation</td>\n",
       "      <td>Zoning Intended to create a healthy, safe, and...</td>\n",
       "    </tr>\n",
       "  </tbody>\n",
       "</table>\n",
       "</div>"
      ],
      "text/plain": [
       "                  group                    tag_0                      tag_1  \\\n",
       "550  Climate Adaptation  STRATEGY IDENTIFICATION  Strategy Action (general)   \n",
       "\n",
       "                                 tag_2  \\\n",
       "550  Regulatory policy and legislation   \n",
       "\n",
       "                                               snippet  \n",
       "550  Zoning Intended to create a healthy, safe, and...  "
      ]
     },
     "execution_count": 19,
     "metadata": {},
     "output_type": "execute_result"
    }
   ],
   "source": [
    "snippet = 'Zoning can be used to regulate parcel use'\n",
    "df.loc[df['snippet'].str.contains(snippet)][['group', 'tag_0', 'tag_1', 'tag_2', 'snippet']]"
   ]
  },
  {
   "cell_type": "code",
   "execution_count": 20,
   "id": "ef10f888",
   "metadata": {},
   "outputs": [
    {
     "data": {
      "text/plain": [
       "['Zoning Intended to create a healthy, safe, and orderly  community while balancing a diversity of interests,  ideally as envisioned by a comprehensive plan, zoning is  one of the most commonly used methods of regulating  land use. A number of the measures discussed in this  guide can be implemented through zoning.  Zoning can be used to regulate parcel use, density of  development, building dimensions, setbacks, impervious  surfaces, type of construction (e.g., easily movable),  shore protection structures, landscaping, etc. It can also  be used to regulate where development can and cannot  take place, making it an invaluable tool in efforts to  protect natural resources and environmentally sensitive  areas and guide development away from hazard-prone  areas. Permissible uses and standards vary by zoning  district. Types of districts include general use districts;  overlay districts, where provisions in addition to those  on the underlying districts apply; and special use  districts, in which all uses require permits.  Floodplain zoning is an example of a zoning application  that, if thoughtfully drafted, can provide multiple  benefits. In addition to protecting life and property,  benefits of floodplain zoning can include resource  conservation, open space preservation, public access,  and water-quality protection. Floodplain regulations that  just meet the minimum requirements of the National  Flood Insurance Program are more focused on how to  build safely in the floodplain and may not provide the  additional benefits']"
      ]
     },
     "execution_count": 20,
     "metadata": {},
     "output_type": "execute_result"
    }
   ],
   "source": [
    "df.loc[df['snippet'].str.contains(snippet)]['snippet'].apply(str).tolist()"
   ]
  }
 ],
 "metadata": {
  "kernelspec": {
   "display_name": "nlp",
   "language": "python",
   "name": "nlp"
  },
  "language_info": {
   "codemirror_mode": {
    "name": "ipython",
    "version": 3
   },
   "file_extension": ".py",
   "mimetype": "text/x-python",
   "name": "python",
   "nbconvert_exporter": "python",
   "pygments_lexer": "ipython3",
   "version": "3.7.9"
  }
 },
 "nbformat": 4,
 "nbformat_minor": 5
}
